{
 "cells": [
  {
   "cell_type": "code",
   "execution_count": 1,
   "metadata": {},
   "outputs": [],
   "source": [
    "import pandas as pd\n",
    "import yfinance as yf\n",
    "import numpy as np\n",
    "import decimal as dec\n",
    "import matplotlib.pyplot as plt\n",
    "from utils_portfolio import tick2ret, ret2tick"
   ]
  },
  {
   "cell_type": "code",
   "execution_count": 2,
   "metadata": {},
   "outputs": [],
   "source": [
    "run = False\n",
    "filename = \"market_cap.csv\"\n",
    "if run:\n",
    "    sp500=pd.read_excel(\"SP500-CapWeight-Ref.xlsx\")\n",
    "    symbols = sp500[\"Symbol\"]\n",
    "\n",
    "    market_cap = dict()\n",
    "\n",
    "    for symbol in symbols:\n",
    "        data = yf.Ticker(symbol)\n",
    "        try:\n",
    "            mrk_cap = data.info['marketCap']\n",
    "            market_cap[symbol] = mrk_cap\n",
    "        except:\n",
    "            market_cap[symbol] = \"N/A\"\n",
    "            \n",
    "    market_cap = pd.DataFrame.from_dict(market_cap, orient='index')\n",
    "    market_cap.to_csv(filename)\n",
    "\n",
    "else:\n",
    "    market_cap = pd.read_csv(filename, index_col=\"Symbol\")"
   ]
  },
  {
   "cell_type": "code",
   "execution_count": 3,
   "metadata": {},
   "outputs": [
    {
     "name": "stdout",
     "output_type": "stream",
     "text": [
      "45390414141440\n"
     ]
    },
    {
     "name": "stderr",
     "output_type": "stream",
     "text": [
      "C:\\Users\\ljohny\\AppData\\Local\\Temp\\ipykernel_26732\\3857673277.py:1: DeprecationWarning: Conversion of an array with ndim > 0 to a scalar is deprecated, and will error in future. Ensure you extract a single element from your array before performing this operation. (Deprecated NumPy 1.25.)\n",
      "  dec_market_cap = market_cap.apply(lambda x: dec.Decimal(float(x.values)), axis=1 )\n"
     ]
    }
   ],
   "source": [
    "dec_market_cap = market_cap.apply(lambda x: dec.Decimal(float(x.values)), axis=1 )\n",
    "total_market_cap = np.sum( dec_market_cap )\n",
    "print(total_market_cap)"
   ]
  },
  {
   "cell_type": "code",
   "execution_count": 4,
   "metadata": {},
   "outputs": [],
   "source": [
    "cap_weights = dec_market_cap.apply(lambda x: x/total_market_cap)\n",
    "cap_weights.to_csv(\"cap_weights.csv\")\n",
    "cap_weights.sort_values(ascending=False, inplace=True)"
   ]
  },
  {
   "cell_type": "code",
   "execution_count": 5,
   "metadata": {},
   "outputs": [
    {
     "data": {
      "text/html": [
       "<div>\n",
       "<style scoped>\n",
       "    .dataframe tbody tr th:only-of-type {\n",
       "        vertical-align: middle;\n",
       "    }\n",
       "\n",
       "    .dataframe tbody tr th {\n",
       "        vertical-align: top;\n",
       "    }\n",
       "\n",
       "    .dataframe thead th {\n",
       "        text-align: right;\n",
       "    }\n",
       "</style>\n",
       "<table border=\"1\" class=\"dataframe\">\n",
       "  <thead>\n",
       "    <tr style=\"text-align: right;\">\n",
       "      <th></th>\n",
       "      <th>Company</th>\n",
       "      <th>Symbol</th>\n",
       "    </tr>\n",
       "  </thead>\n",
       "  <tbody>\n",
       "    <tr>\n",
       "      <th>0</th>\n",
       "      <td>Microsoft Corp</td>\n",
       "      <td>MSFT</td>\n",
       "    </tr>\n",
       "    <tr>\n",
       "      <th>1</th>\n",
       "      <td>Apple Inc.</td>\n",
       "      <td>AAPL</td>\n",
       "    </tr>\n",
       "    <tr>\n",
       "      <th>2</th>\n",
       "      <td>Nvidia Corp</td>\n",
       "      <td>NVDA</td>\n",
       "    </tr>\n",
       "    <tr>\n",
       "      <th>3</th>\n",
       "      <td>Amazon.com Inc</td>\n",
       "      <td>AMZN</td>\n",
       "    </tr>\n",
       "    <tr>\n",
       "      <th>4</th>\n",
       "      <td>Alphabet Inc. Class A</td>\n",
       "      <td>GOOGL</td>\n",
       "    </tr>\n",
       "    <tr>\n",
       "      <th>...</th>\n",
       "      <td>...</td>\n",
       "      <td>...</td>\n",
       "    </tr>\n",
       "    <tr>\n",
       "      <th>498</th>\n",
       "      <td>Ralph Lauren Corporation</td>\n",
       "      <td>RL</td>\n",
       "    </tr>\n",
       "    <tr>\n",
       "      <th>499</th>\n",
       "      <td>V.F. Corporation</td>\n",
       "      <td>VFC</td>\n",
       "    </tr>\n",
       "    <tr>\n",
       "      <th>500</th>\n",
       "      <td>Mohawk Industries, Inc.</td>\n",
       "      <td>MHK</td>\n",
       "    </tr>\n",
       "    <tr>\n",
       "      <th>501</th>\n",
       "      <td>Fox Corporation Class B</td>\n",
       "      <td>FOX</td>\n",
       "    </tr>\n",
       "    <tr>\n",
       "      <th>502</th>\n",
       "      <td>News Corporation Class B</td>\n",
       "      <td>NWS</td>\n",
       "    </tr>\n",
       "  </tbody>\n",
       "</table>\n",
       "<p>503 rows × 2 columns</p>\n",
       "</div>"
      ],
      "text/plain": [
       "                      Company Symbol\n",
       "0              Microsoft Corp   MSFT\n",
       "1                  Apple Inc.   AAPL\n",
       "2                 Nvidia Corp   NVDA\n",
       "3              Amazon.com Inc   AMZN\n",
       "4       Alphabet Inc. Class A  GOOGL\n",
       "..                        ...    ...\n",
       "498  Ralph Lauren Corporation     RL\n",
       "499          V.F. Corporation    VFC\n",
       "500   Mohawk Industries, Inc.    MHK\n",
       "501   Fox Corporation Class B    FOX\n",
       "502  News Corporation Class B    NWS\n",
       "\n",
       "[503 rows x 2 columns]"
      ]
     },
     "execution_count": 5,
     "metadata": {},
     "output_type": "execute_result"
    }
   ],
   "source": [
    "sp500=pd.read_excel(\"SP500-CapWeight-Ref.xlsx\")\n",
    "sp500.drop([\"Portfolio%\"], axis=1, inplace=True)\n",
    "sp500"
   ]
  },
  {
   "cell_type": "code",
   "execution_count": 14,
   "metadata": {},
   "outputs": [
    {
     "name": "stdout",
     "output_type": "stream",
     "text": [
      "                                Name                         Weight\n",
      "Symbol                                                             \n",
      "AAPL                      Apple Inc.  6.625494871205404855234577444\n",
      "MSFT                  Microsoft Corp  6.591547561819804350235864178\n",
      "GOOG           Alphabet Inc. Class C  4.121089296914390995517876034\n",
      "GOOGL          Alphabet Inc. Class A  4.121071970965402087468370056\n",
      "AMZN                  Amazon.com Inc  3.571446955272418150807551056\n",
      "NVDA                     Nvidia Corp  3.339122438982700669579414219\n",
      "META    Meta Platforms, Inc. Class A  2.212018490087623011369902933\n",
      "BRK-B     Berkshire Hathaway Class B  1.804736540907912046230398343\n",
      "TSLA                     Tesla, Inc.  1.455538391884432908055560134\n",
      "LLY                  Eli Lilly & Co.  1.325336772890953734026385039\n"
     ]
    }
   ],
   "source": [
    "top_10 = cap_weights[0:10].to_frame()\n",
    "top_10.rename({0:'Weight'},  axis=1, inplace=True )\n",
    "\n",
    "for t in top_10.index:\n",
    "    name = sp500.loc[sp500['Symbol'] == t, \"Company\"].values[0] \n",
    "    top_10.loc[t, \"Name\"] = name\n",
    "\n",
    "# fig, ax = plt.subplots()\n",
    "# ax.pie(top_10['Weight'], labels=top_10['Name']);\n",
    "\n",
    "top_10['Weight'] = top_10['Weight'] * 100 \n",
    "print(top_10.loc[:, [\"Name\",\"Weight\"]])\n"
   ]
  },
  {
   "cell_type": "code",
   "execution_count": 15,
   "metadata": {},
   "outputs": [
    {
     "name": "stdout",
     "output_type": "stream",
     "text": [
      "                             Name                           Weight\n",
      "Symbol                                                            \n",
      "XRAY         Dentsply Sirona Inc.  0.01618224008512422826458531870\n",
      "CMA         Comerica Incorporated  0.01599092483576474079371549821\n",
      "FMC               Fmc Corporation  0.01566963112924432399051664994\n",
      "IVZ                   Invesco Ltd  0.01566838244268633432835498862\n",
      "GNRC         Generac Holdings Inc  0.01531648068761031726973005193\n",
      "HAS                  Hasbro, Inc.  0.01471086770698533112132431236\n",
      "ZION    Zions Bancorporation N.a.  0.01440716728343236215980155405\n",
      "VFC              V.F. Corporation  0.01440199093057363175360474846\n",
      "MHK       Mohawk Industries, Inc.  0.01368895255425153317012405193\n",
      "WHR               Whirlpool Corp.  0.01333668645793050196436432155\n"
     ]
    }
   ],
   "source": [
    "bottom_10 = cap_weights[-10:].to_frame()\n",
    "bottom_10.rename({0:'Weight'},  axis=1, inplace=True )\n",
    "# print(bottom_10)\n",
    "\n",
    "for b in bottom_10.index:\n",
    "    name = sp500.loc[sp500['Symbol'] == b, \"Company\"].values[0]\n",
    "    bottom_10.loc[b, \"Name\"] = name\n",
    "\n",
    "# fig, ax = plt.subplots()\n",
    "# ax.pie(bottom_10['Weight'], labels=bottom_10['Name']);\n",
    "\n",
    "bottom_10['Weight'] = bottom_10['Weight'] * 100 \n",
    "print(bottom_10.loc[:, [\"Name\",\"Weight\"]])"
   ]
  },
  {
   "cell_type": "code",
   "execution_count": null,
   "metadata": {},
   "outputs": [],
   "source": []
  },
  {
   "cell_type": "code",
   "execution_count": null,
   "metadata": {},
   "outputs": [],
   "source": []
  },
  {
   "cell_type": "code",
   "execution_count": null,
   "metadata": {},
   "outputs": [],
   "source": []
  },
  {
   "cell_type": "code",
   "execution_count": null,
   "metadata": {},
   "outputs": [],
   "source": []
  },
  {
   "cell_type": "code",
   "execution_count": null,
   "metadata": {},
   "outputs": [],
   "source": []
  },
  {
   "cell_type": "code",
   "execution_count": null,
   "metadata": {},
   "outputs": [],
   "source": []
  }
 ],
 "metadata": {
  "kernelspec": {
   "display_name": "value",
   "language": "python",
   "name": "python3"
  },
  "language_info": {
   "codemirror_mode": {
    "name": "ipython",
    "version": 3
   },
   "file_extension": ".py",
   "mimetype": "text/x-python",
   "name": "python",
   "nbconvert_exporter": "python",
   "pygments_lexer": "ipython3",
   "version": "3.11.7"
  }
 },
 "nbformat": 4,
 "nbformat_minor": 2
}
