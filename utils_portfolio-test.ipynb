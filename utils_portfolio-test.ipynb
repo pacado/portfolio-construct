{
 "cells": [
  {
   "cell_type": "code",
   "execution_count": 1,
   "metadata": {},
   "outputs": [],
   "source": [
    "import numpy as np\n",
    "import pandas as pd\n",
    "from utils_portfolio import tick2ret, ret2tick"
   ]
  },
  {
   "cell_type": "code",
   "execution_count": 2,
   "metadata": {},
   "outputs": [
    {
     "name": "stdout",
     "output_type": "stream",
     "text": [
      "(10, 5)\n"
     ]
    }
   ],
   "source": [
    "num_assets = 5\n",
    "np.random.seed(42)\n",
    "returns = np.random.randn(10,num_assets) / 100 \n",
    "returns = np.ones((10,num_assets))/100*5\n",
    "print(returns.shape)"
   ]
  },
  {
   "cell_type": "code",
   "execution_count": 3,
   "metadata": {},
   "outputs": [
    {
     "name": "stdout",
     "output_type": "stream",
     "text": [
      "     c0    c1    c2    c3    c4\n",
      "0  0.05  0.05  0.05  0.05  0.05\n",
      "1  0.05  0.05  0.05  0.05  0.05\n",
      "2  0.05  0.05  0.05  0.05  0.05\n",
      "3  0.05  0.05  0.05  0.05  0.05\n",
      "4  0.05  0.05  0.05  0.05  0.05\n",
      "5  0.05  0.05  0.05  0.05  0.05\n",
      "6  0.05  0.05  0.05  0.05  0.05\n",
      "7  0.05  0.05  0.05  0.05  0.05\n",
      "8  0.05  0.05  0.05  0.05  0.05\n",
      "9  0.05  0.05  0.05  0.05  0.05\n"
     ]
    }
   ],
   "source": [
    "col_names = [ \"c\"+ str(r) for r in range(0,num_assets)]\n",
    "df_returns = pd.DataFrame(returns, columns=col_names)\n",
    "print(df_returns)"
   ]
  },
  {
   "cell_type": "code",
   "execution_count": 4,
   "metadata": {},
   "outputs": [
    {
     "name": "stdout",
     "output_type": "stream",
     "text": [
      "            c0          c1          c2          c3          c4\n",
      "0   100.000000  100.000000  100.000000  100.000000  100.000000\n",
      "1   105.000000  105.000000  105.000000  105.000000  105.000000\n",
      "2   110.250000  110.250000  110.250000  110.250000  110.250000\n",
      "3   115.762500  115.762500  115.762500  115.762500  115.762500\n",
      "4   121.550625  121.550625  121.550625  121.550625  121.550625\n",
      "5   127.628156  127.628156  127.628156  127.628156  127.628156\n",
      "6   134.009564  134.009564  134.009564  134.009564  134.009564\n",
      "7   140.710042  140.710042  140.710042  140.710042  140.710042\n",
      "8   147.745544  147.745544  147.745544  147.745544  147.745544\n",
      "9   155.132822  155.132822  155.132822  155.132822  155.132822\n",
      "10  162.889463  162.889463  162.889463  162.889463  162.889463\n"
     ]
    }
   ],
   "source": [
    "df_prices = ret2tick(df_returns=df_returns)\n",
    "print(df_prices)"
   ]
  },
  {
   "cell_type": "code",
   "execution_count": 5,
   "metadata": {},
   "outputs": [
    {
     "data": {
      "text/html": [
       "<div>\n",
       "<style scoped>\n",
       "    .dataframe tbody tr th:only-of-type {\n",
       "        vertical-align: middle;\n",
       "    }\n",
       "\n",
       "    .dataframe tbody tr th {\n",
       "        vertical-align: top;\n",
       "    }\n",
       "\n",
       "    .dataframe thead th {\n",
       "        text-align: right;\n",
       "    }\n",
       "</style>\n",
       "<table border=\"1\" class=\"dataframe\">\n",
       "  <thead>\n",
       "    <tr style=\"text-align: right;\">\n",
       "      <th></th>\n",
       "      <th>c0</th>\n",
       "      <th>c1</th>\n",
       "      <th>c2</th>\n",
       "      <th>c3</th>\n",
       "      <th>c4</th>\n",
       "    </tr>\n",
       "  </thead>\n",
       "  <tbody>\n",
       "    <tr>\n",
       "      <th>0</th>\n",
       "      <td>0.05</td>\n",
       "      <td>0.05</td>\n",
       "      <td>0.05</td>\n",
       "      <td>0.05</td>\n",
       "      <td>0.05</td>\n",
       "    </tr>\n",
       "    <tr>\n",
       "      <th>1</th>\n",
       "      <td>0.05</td>\n",
       "      <td>0.05</td>\n",
       "      <td>0.05</td>\n",
       "      <td>0.05</td>\n",
       "      <td>0.05</td>\n",
       "    </tr>\n",
       "    <tr>\n",
       "      <th>2</th>\n",
       "      <td>0.05</td>\n",
       "      <td>0.05</td>\n",
       "      <td>0.05</td>\n",
       "      <td>0.05</td>\n",
       "      <td>0.05</td>\n",
       "    </tr>\n",
       "    <tr>\n",
       "      <th>3</th>\n",
       "      <td>0.05</td>\n",
       "      <td>0.05</td>\n",
       "      <td>0.05</td>\n",
       "      <td>0.05</td>\n",
       "      <td>0.05</td>\n",
       "    </tr>\n",
       "    <tr>\n",
       "      <th>4</th>\n",
       "      <td>0.05</td>\n",
       "      <td>0.05</td>\n",
       "      <td>0.05</td>\n",
       "      <td>0.05</td>\n",
       "      <td>0.05</td>\n",
       "    </tr>\n",
       "    <tr>\n",
       "      <th>5</th>\n",
       "      <td>0.05</td>\n",
       "      <td>0.05</td>\n",
       "      <td>0.05</td>\n",
       "      <td>0.05</td>\n",
       "      <td>0.05</td>\n",
       "    </tr>\n",
       "    <tr>\n",
       "      <th>6</th>\n",
       "      <td>0.05</td>\n",
       "      <td>0.05</td>\n",
       "      <td>0.05</td>\n",
       "      <td>0.05</td>\n",
       "      <td>0.05</td>\n",
       "    </tr>\n",
       "    <tr>\n",
       "      <th>7</th>\n",
       "      <td>0.05</td>\n",
       "      <td>0.05</td>\n",
       "      <td>0.05</td>\n",
       "      <td>0.05</td>\n",
       "      <td>0.05</td>\n",
       "    </tr>\n",
       "    <tr>\n",
       "      <th>8</th>\n",
       "      <td>0.05</td>\n",
       "      <td>0.05</td>\n",
       "      <td>0.05</td>\n",
       "      <td>0.05</td>\n",
       "      <td>0.05</td>\n",
       "    </tr>\n",
       "    <tr>\n",
       "      <th>9</th>\n",
       "      <td>0.05</td>\n",
       "      <td>0.05</td>\n",
       "      <td>0.05</td>\n",
       "      <td>0.05</td>\n",
       "      <td>0.05</td>\n",
       "    </tr>\n",
       "  </tbody>\n",
       "</table>\n",
       "</div>"
      ],
      "text/plain": [
       "     c0    c1    c2    c3    c4\n",
       "0  0.05  0.05  0.05  0.05  0.05\n",
       "1  0.05  0.05  0.05  0.05  0.05\n",
       "2  0.05  0.05  0.05  0.05  0.05\n",
       "3  0.05  0.05  0.05  0.05  0.05\n",
       "4  0.05  0.05  0.05  0.05  0.05\n",
       "5  0.05  0.05  0.05  0.05  0.05\n",
       "6  0.05  0.05  0.05  0.05  0.05\n",
       "7  0.05  0.05  0.05  0.05  0.05\n",
       "8  0.05  0.05  0.05  0.05  0.05\n",
       "9  0.05  0.05  0.05  0.05  0.05"
      ]
     },
     "execution_count": 5,
     "metadata": {},
     "output_type": "execute_result"
    }
   ],
   "source": [
    "tick2ret(df_prices=df_prices)"
   ]
  }
 ],
 "metadata": {
  "kernelspec": {
   "display_name": "value",
   "language": "python",
   "name": "python3"
  },
  "language_info": {
   "codemirror_mode": {
    "name": "ipython",
    "version": 3
   },
   "file_extension": ".py",
   "mimetype": "text/x-python",
   "name": "python",
   "nbconvert_exporter": "python",
   "pygments_lexer": "ipython3",
   "version": "3.11.7"
  }
 },
 "nbformat": 4,
 "nbformat_minor": 2
}
